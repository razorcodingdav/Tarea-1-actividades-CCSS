{
 "cells": [
  {
   "cell_type": "code",
   "execution_count": 7,
   "id": "6bf5fdab",
   "metadata": {},
   "outputs": [
    {
     "name": "stdout",
     "output_type": "stream",
     "text": [
      "Numero Positivo\n",
      "Igual\n"
     ]
    }
   ],
   "source": [
    "x=1_00000\n",
    "if x>=1:\n",
    "    print(\"Numero Positivo\")\n",
    "if x<=100000:\n",
    "    print(\"Igual\")\n",
    "    \n"
   ]
  },
  {
   "cell_type": "code",
   "execution_count": 9,
   "id": "fcf85d6f",
   "metadata": {},
   "outputs": [
    {
     "name": "stdout",
     "output_type": "stream",
     "text": [
      "1920\n"
     ]
    }
   ],
   "source": [
    "print(40*48)"
   ]
  },
  {
   "cell_type": "code",
   "execution_count": 19,
   "id": "91fae1ea",
   "metadata": {},
   "outputs": [
    {
     "name": "stdout",
     "output_type": "stream",
     "text": [
      "12610 97\n"
     ]
    }
   ],
   "source": [
    "x=(1_5600//(40*4))\n",
    "\n",
    "if x<=97:\n",
    "    print(97*130,x)\n",
    "\n",
    "  \n",
    "    "
   ]
  },
  {
   "cell_type": "code",
   "execution_count": 1,
   "id": "b7ab684b",
   "metadata": {},
   "outputs": [
    {
     "name": "stdout",
     "output_type": "stream",
     "text": [
      "2114.78\n",
      "5.0\n"
     ]
    }
   ],
   "source": [
    "producto_final=2_579\n",
    "igv=0.18\n",
    "producto_final*igv\n",
    "impuesto=464.21999999999997\n",
    "print (producto_final-impuesto)\n",
    "print(producto_final//impuesto)\n"
   ]
  },
  {
   "cell_type": "code",
   "execution_count": 45,
   "id": "d4c3baf5",
   "metadata": {},
   "outputs": [
    {
     "name": "stdout",
     "output_type": "stream",
     "text": [
      "El salario de crisitina es menor al de un congresista\n"
     ]
    }
   ],
   "source": [
    "x=913*12\n",
    "y=1_5600*12\n",
    "\n",
    "if x<y:\n",
    "    print(\"El salario de crisitina es menor al de un congresista\")\n"
   ]
  },
  {
   "cell_type": "code",
   "execution_count": 12,
   "id": "90926588",
   "metadata": {},
   "outputs": [
    {
     "name": "stdout",
     "output_type": "stream",
     "text": [
      "18835.93897155773\n",
      "18835\n",
      "4985\n"
     ]
    }
   ],
   "source": [
    "Numero_de_familias=5309\n",
    "Monto_de_Compesacion=1_00000000\n",
    "print(Monto_de_Compesacion/Numero_de_familias)\n",
    "print(Monto_de_Compesacion//Numero_de_familias)\n",
    "print(Monto_de_Compesacion%Numero_de_familias)"
   ]
  },
  {
   "cell_type": "code",
   "execution_count": 8,
   "id": "be99fead",
   "metadata": {},
   "outputs": [
    {
     "data": {
      "text/plain": [
       "['Historia', 'Economia', 'Antropologia', 'RSP', 'Derecho']"
      ]
     },
     "execution_count": 8,
     "metadata": {},
     "output_type": "execute_result"
    }
   ],
   "source": [
    "cursos = [\"Historia\",\"Economia\", \"Antropologia\", \"RSP\", \"Derecho\"]\n",
    "cursos\n",
    "cursos[0:5]"
   ]
  },
  {
   "cell_type": "code",
   "execution_count": 11,
   "id": "881d8dce",
   "metadata": {},
   "outputs": [
    {
     "data": {
      "text/plain": [
       "['Historia',\n",
       " 'Economia',\n",
       " 'Antropologia',\n",
       " 'RSP',\n",
       " 'Derecho',\n",
       " 'sociologia',\n",
       " 'Sociologia']"
      ]
     },
     "execution_count": 11,
     "metadata": {},
     "output_type": "execute_result"
    }
   ],
   "source": [
    "cursos.append(\"Sociologia\")\n",
    "cursos\n"
   ]
  },
  {
   "cell_type": "code",
   "execution_count": 12,
   "id": "1054198f",
   "metadata": {},
   "outputs": [
    {
     "data": {
      "text/plain": [
       "['Historia',\n",
       " 'Economia',\n",
       " 'Antropologia',\n",
       " 'RSP',\n",
       " 'Derecho',\n",
       " 'sociologia',\n",
       " 'Sociologia',\n",
       " 'Mate',\n",
       " 'Estadistica']"
      ]
     },
     "execution_count": 12,
     "metadata": {},
     "output_type": "execute_result"
    }
   ],
   "source": [
    "mas_cursos = ['Mate', 'Estadistica']\n",
    "cursos_copy = cursos[:]\n",
    "cursos_copy.extend(mas_cursos)\n",
    "cursos_copy"
   ]
  },
  {
   "cell_type": "code",
   "execution_count": 13,
   "id": "8754f8b7",
   "metadata": {},
   "outputs": [
    {
     "name": "stdout",
     "output_type": "stream",
     "text": [
      "The index of RSP: 3\n"
     ]
    }
   ],
   "source": [
    "index=cursos.index(\"RSP\")\n",
    "print('The index of RSP:', index)"
   ]
  },
  {
   "cell_type": "code",
   "execution_count": 14,
   "id": "a2293ef4",
   "metadata": {},
   "outputs": [
    {
     "data": {
      "text/plain": [
       "['Historia', 'Economia', 'Antropologia', 'RSP', 'Derecho', 'Sociologia']"
      ]
     },
     "execution_count": 14,
     "metadata": {},
     "output_type": "execute_result"
    }
   ],
   "source": [
    "del cursos[5]\n",
    "cursos"
   ]
  },
  {
   "cell_type": "code",
   "execution_count": 15,
   "id": "c61665cd",
   "metadata": {},
   "outputs": [
    {
     "data": {
      "text/plain": [
       "['Sociologia', 'Derecho', 'RSP', 'Antropologia', 'Economia', 'Historia']"
      ]
     },
     "execution_count": 15,
     "metadata": {},
     "output_type": "execute_result"
    }
   ],
   "source": [
    "cursos.reverse()\n",
    "cursos"
   ]
  },
  {
   "cell_type": "code",
   "execution_count": 16,
   "id": "a39e065f",
   "metadata": {},
   "outputs": [
    {
     "data": {
      "text/plain": [
       "[30, 24, 54.2, 15.8, 145, 90, 100]"
      ]
     },
     "execution_count": 16,
     "metadata": {},
     "output_type": "execute_result"
    }
   ],
   "source": [
    "list= [30, 24, 54.2, 15.8, 145, 90, 100]\n",
    "list"
   ]
  },
  {
   "cell_type": "code",
   "execution_count": 17,
   "id": "8b848fdf",
   "metadata": {},
   "outputs": [
    {
     "data": {
      "text/plain": [
       "[15.8, 24, 30, 54.2, 90, 100, 145]"
      ]
     },
     "execution_count": 17,
     "metadata": {},
     "output_type": "execute_result"
    }
   ],
   "source": [
    "list.sort()\n",
    "list"
   ]
  },
  {
   "cell_type": "code",
   "execution_count": 34,
   "id": "76297f9a",
   "metadata": {},
   "outputs": [
    {
     "data": {
      "text/plain": [
       "True"
      ]
     },
     "execution_count": 34,
     "metadata": {},
     "output_type": "execute_result"
    }
   ],
   "source": [
    "list.count(30)>-1"
   ]
  },
  {
   "cell_type": "code",
   "execution_count": 39,
   "id": "a80c336c",
   "metadata": {},
   "outputs": [
    {
     "data": {
      "text/plain": [
       "65.57142857142857"
      ]
     },
     "execution_count": 39,
     "metadata": {},
     "output_type": "execute_result"
    }
   ],
   "source": [
    "mean(list)"
   ]
  },
  {
   "cell_type": "code",
   "execution_count": 53,
   "id": "0a3ae7c7",
   "metadata": {},
   "outputs": [
    {
     "name": "stdout",
     "output_type": "stream",
     "text": [
      "[30, 24, 54.2, 15.8, 145, 90, 100]\n",
      "The numbers greater than 30 : 4\n"
     ]
    }
   ],
   "source": [
    "list= [30, 24, 54.2, 15.8, 145, 90, 100]\n",
    "x=30\n",
    "print(list)\n",
    "count = len([i for i in list if i > x])\n",
    "print (\"The numbers greater than 30 : \" + str(count))"
   ]
  },
  {
   "cell_type": "code",
   "execution_count": null,
   "id": "07bdd710",
   "metadata": {},
   "outputs": [],
   "source": []
  }
 ],
 "metadata": {
  "kernelspec": {
   "display_name": "Python 3",
   "language": "python",
   "name": "python3"
  },
  "language_info": {
   "codemirror_mode": {
    "name": "ipython",
    "version": 3
   },
   "file_extension": ".py",
   "mimetype": "text/x-python",
   "name": "python",
   "nbconvert_exporter": "python",
   "pygments_lexer": "ipython3",
   "version": "3.9.1"
  }
 },
 "nbformat": 4,
 "nbformat_minor": 5
}
